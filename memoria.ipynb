{
 "cells": [
  {
   "cell_type": "markdown",
   "metadata": {},
   "source": [
    "## <center>Memoria de nuestro proyecto</center>"
   ]
  },
  {
   "cell_type": "markdown",
   "metadata": {},
   "source": [
    "<img src=\"Media/Header ReadMe.png\" alt=\"Header\" width=\"100%\">"
   ]
  },
  {
   "cell_type": "markdown",
   "metadata": {},
   "source": [
    "### Sprint 0:\n",
    "- Primeras reuniones para conocernos.\n",
    "- Definir roles:\n",
    "<img src=\"roles.png\">"
   ]
  },
  {
   "cell_type": "markdown",
   "metadata": {},
   "source": [
    "### Sprint 0:\n",
    "\n",
    "- Reunión con el equipo para escoger los requerimientos (a través de user stories) que necesitará el MVP.\n",
    "Día 3-5: Identificación y recopilación de datos relevantes, que incluyen datos de ventas históricas, datos de inventario, datos de transacciones, datos de empleados y otros datos relevantes.\n",
    "Día 6-7: Limpieza inicial de los datos para eliminar valores atípicos y datos faltantes."
   ]
  },
  {
   "cell_type": "markdown",
   "metadata": {},
   "source": []
  },
  {
   "cell_type": "code",
   "execution_count": null,
   "metadata": {},
   "outputs": [],
   "source": []
  }
 ],
 "metadata": {
  "language_info": {
   "name": "python"
  }
 },
 "nbformat": 4,
 "nbformat_minor": 2
}
