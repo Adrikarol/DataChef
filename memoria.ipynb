{
 "cells": [
  {
   "cell_type": "markdown",
   "metadata": {},
   "source": [
    "## <center>Memoria de nuestro proyecto</center>"
   ]
  },
  {
   "cell_type": "markdown",
   "metadata": {},
   "source": [
    "<img src=\"Media/Header ReadMe.png\" alt=\"Header\" width=\"100%\">"
   ]
  },
  {
   "cell_type": "markdown",
   "metadata": {},
   "source": [
    "### Sprint 0:\n",
    "- #### Primeras reuniones para conocernos.\n",
    "- #### Definición de horario de reuniones diarias.\n",
    "- #### Definiciñon roles:\n",
    "\n",
    "<img src=\"./Media/roles.png\">\n",
    "\n",
    "- #### Creación del canal de Discord:\n",
    "\n",
    "<img src=\"./Media/discord.png\">\n",
    "\n",
    "- #### Primeras ideas sobre proyectos."
   ]
  },
  {
   "cell_type": "markdown",
   "metadata": {},
   "source": [
    "### Sprint 1:\n",
    "- #### Elección del proyecto\n",
    "- #### User Stories:\n",
    "\n",
    "1. Como propietario del restaurante, quiero poder acceder a análisis detallados sobre las ventas para la eficiencia operativa.\n",
    "2. Como gerente del restaurante, quiero recibir predicciones de las ventas de productos para ajustar el inventario y evitar la escasez o el exceso de stock.\n",
    "3. Como gerente del restaurante, quiero recibir mensualmente promociones más rentables para aumentar las ventas en horarios de poca demanda.\n",
    "4. Como gerente del restaurante, quiero saber la eficiencia de los empleados para incrementar el ticket promedio.\n",
    "\n",
    "\n",
    "- #### Primera extracción y limpieza de datos:\n",
    "\n",
    "<img src=\"./Media/datos_toteat.png\">\n",
    "\n",
    "En el archivo [conexión_api](./base_de_datos/conexion_api.ipynb) se puede ver todo el proceso de extracción y limpieza.\n",
    "\n",
    "- #### Creación de tablas y relaciones:\n",
    "\n",
    "<img src=\"./Media/diagrama.png\" width=\"1200\">\n",
    "\n",
    "- #### Creación de la base de datos en AWS"
   ]
  },
  {
   "cell_type": "markdown",
   "metadata": {},
   "source": []
  },
  {
   "cell_type": "code",
   "execution_count": null,
   "metadata": {},
   "outputs": [],
   "source": []
  }
 ],
 "metadata": {
  "language_info": {
   "name": "python"
  }
 },
 "nbformat": 4,
 "nbformat_minor": 2
}
